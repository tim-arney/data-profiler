{
 "cells": [
  {
   "cell_type": "markdown",
   "id": "59183dc2",
   "metadata": {},
   "source": [
    "First we need to import the data profiler:"
   ]
  },
  {
   "cell_type": "code",
   "execution_count": null,
   "id": "2daa1276",
   "metadata": {},
   "outputs": [],
   "source": [
    "from data_profile import DataProfile"
   ]
  },
  {
   "cell_type": "markdown",
   "id": "926edf0e",
   "metadata": {},
   "source": [
    "Then load the data into the profiler, which will give us a summary of the data set:"
   ]
  },
  {
   "cell_type": "code",
   "execution_count": null,
   "id": "ae0ac26f",
   "metadata": {},
   "outputs": [],
   "source": [
    "data_src = 'data/sample_data.csv'\n",
    "dp = DataProfile(data_src) "
   ]
  },
  {
   "cell_type": "markdown",
   "id": "0b5a519c",
   "metadata": {},
   "source": [
    "We can then describe all attributes:"
   ]
  },
  {
   "cell_type": "code",
   "execution_count": null,
   "id": "694c8f68",
   "metadata": {},
   "outputs": [],
   "source": [
    "dp.describe()"
   ]
  },
  {
   "cell_type": "markdown",
   "id": "b9d6e0a7",
   "metadata": {},
   "source": [
    "Or just describe a particular attribute, plus we can override the default number of rows to show in the frequency table:"
   ]
  },
  {
   "cell_type": "code",
   "execution_count": null,
   "id": "dd8ad352",
   "metadata": {},
   "outputs": [],
   "source": [
    "dp.describe('current_age', 10)"
   ]
  },
  {
   "cell_type": "markdown",
   "id": "bb7cd268",
   "metadata": {},
   "source": [
    "Obviously ages should be positive (and probably whole numbers), so we can check their validity:"
   ]
  },
  {
   "cell_type": "code",
   "execution_count": null,
   "id": "b180f220",
   "metadata": {},
   "outputs": [],
   "source": [
    "dp.int_validation('current_age', minimum=0)"
   ]
  },
  {
   "cell_type": "markdown",
   "id": "24cd3ad8",
   "metadata": {},
   "source": [
    "The most recent validity of an attribute is now associated with the data quality of that attribute:"
   ]
  },
  {
   "cell_type": "code",
   "execution_count": null,
   "id": "bb2bc77d",
   "metadata": {},
   "outputs": [],
   "source": [
    "dp.describe('current_age')"
   ]
  },
  {
   "cell_type": "markdown",
   "id": "e8779e0a",
   "metadata": {},
   "source": [
    "Wrappers are also provided for pandas functions head, tail, and sample, to view a selection of records:"
   ]
  },
  {
   "cell_type": "code",
   "execution_count": null,
   "id": "eb8244c7",
   "metadata": {},
   "outputs": [],
   "source": [
    "dp.head()"
   ]
  },
  {
   "cell_type": "markdown",
   "id": "32c23c29",
   "metadata": {},
   "source": [
    "For each wrapper we can also override the default number of records to show:"
   ]
  },
  {
   "cell_type": "code",
   "execution_count": null,
   "id": "a1be0bf5",
   "metadata": {},
   "outputs": [],
   "source": [
    "dp.tail(10)"
   ]
  },
  {
   "cell_type": "markdown",
   "id": "0c88e11c",
   "metadata": {},
   "source": [
    "As well as isolate a particular attribute:"
   ]
  },
  {
   "cell_type": "code",
   "execution_count": null,
   "id": "e0965388",
   "metadata": {
    "scrolled": false
   },
   "outputs": [],
   "source": [
    "dp.sample(20, 'birth_date')"
   ]
  },
  {
   "cell_type": "markdown",
   "id": "8df2d9ad",
   "metadata": {},
   "source": [
    "The dates appear to be formatted as day/month/year, so we can also check their validity by specifying an appropriate date format string, and at the same time restrict the date range to only dates that fall in the past:"
   ]
  },
  {
   "cell_type": "code",
   "execution_count": null,
   "id": "06f2828e",
   "metadata": {},
   "outputs": [],
   "source": [
    "dp.datetime_validation('birth_date', dt_format='%d/%m/%Y', to_dt='6/3/2022')"
   ]
  },
  {
   "cell_type": "markdown",
   "id": "b11908a9",
   "metadata": {},
   "source": [
    "Convenience functions are provided for email and IP address validation:"
   ]
  },
  {
   "cell_type": "code",
   "execution_count": null,
   "id": "9d9bc7f5",
   "metadata": {},
   "outputs": [],
   "source": [
    "dp.email_validation('email')"
   ]
  },
  {
   "cell_type": "markdown",
   "id": "361683d9",
   "metadata": {},
   "source": [
    "We can also change the sample size of the invalid values to show:"
   ]
  },
  {
   "cell_type": "code",
   "execution_count": null,
   "id": "6fd1fd78",
   "metadata": {},
   "outputs": [],
   "source": [
    "dp.ip_validation('ip_address', 10)"
   ]
  },
  {
   "cell_type": "markdown",
   "id": "d21c0e42",
   "metadata": {},
   "source": [
    "These convenience functions are just wrappers for a more general regular expression validator.  For example, consider the 'rec_id' attribute:"
   ]
  },
  {
   "cell_type": "code",
   "execution_count": null,
   "id": "2504cf2d",
   "metadata": {},
   "outputs": [],
   "source": [
    "dp.sample(20, 'rec_id')"
   ]
  },
  {
   "cell_type": "markdown",
   "id": "66b5410f",
   "metadata": {},
   "source": [
    "It appears their values should all start with the letter 'R' and be followed by 6 digits.  So we can validate this using a regular expression:"
   ]
  },
  {
   "cell_type": "code",
   "execution_count": null,
   "id": "fa8405d7",
   "metadata": {},
   "outputs": [],
   "source": [
    "dp.regex_validation('rec_id',r'^[R][0-9]{6}$')"
   ]
  },
  {
   "cell_type": "markdown",
   "id": "7bba5b73",
   "metadata": {},
   "source": [
    "There's also a string validation tool:"
   ]
  },
  {
   "cell_type": "code",
   "execution_count": null,
   "id": "93e0d38d",
   "metadata": {},
   "outputs": [],
   "source": [
    "dp.string_validation('first_name')"
   ]
  },
  {
   "cell_type": "markdown",
   "id": "16970eac",
   "metadata": {},
   "source": [
    "By default it's just checking that the attribute only contains letters, but it can also be adjusted to consider other character sets as either valid or invalid, as well as check that the string length falls within a particular range:"
   ]
  },
  {
   "cell_type": "code",
   "execution_count": null,
   "id": "8fcd8b85",
   "metadata": {},
   "outputs": [],
   "source": [
    "dp.string_validation('phone', letters=False, digits=True, whitespace=True, min_length=10)"
   ]
  },
  {
   "cell_type": "markdown",
   "id": "080a0b44",
   "metadata": {},
   "source": [
    "Or for the 'postcode' attribute:"
   ]
  },
  {
   "cell_type": "code",
   "execution_count": null,
   "id": "37f44819",
   "metadata": {},
   "outputs": [],
   "source": [
    "dp.string_validation('postcode', letters=False, digits=True, min_length=3, max_length=4)"
   ]
  },
  {
   "cell_type": "markdown",
   "id": "30f64531",
   "metadata": {},
   "source": [
    "Though given Australian postcodes all run from '0200' to '9999', a better way might be to use the integer validation:"
   ]
  },
  {
   "cell_type": "code",
   "execution_count": null,
   "id": "c4fa564d",
   "metadata": {},
   "outputs": [],
   "source": [
    "dp.int_validation('postcode', minimum=200, maximum=9999)"
   ]
  },
  {
   "cell_type": "markdown",
   "id": "afb6fbe6",
   "metadata": {},
   "source": [
    "The most recent validity figures can also be found in the summary:"
   ]
  },
  {
   "cell_type": "code",
   "execution_count": null,
   "id": "377db99e",
   "metadata": {},
   "outputs": [],
   "source": [
    "dp.summary()"
   ]
  },
  {
   "cell_type": "markdown",
   "id": "b1626782",
   "metadata": {},
   "source": [
    "Finally, we can save our profile to disk:"
   ]
  },
  {
   "cell_type": "code",
   "execution_count": null,
   "id": "5eeebd16",
   "metadata": {},
   "outputs": [],
   "source": [
    "dp.save()"
   ]
  },
  {
   "cell_type": "markdown",
   "id": "852f9a56",
   "metadata": {},
   "source": [
    "Refer to the code documentation for the full list of available methods and their arguments:"
   ]
  },
  {
   "cell_type": "code",
   "execution_count": null,
   "id": "2e708ea6",
   "metadata": {},
   "outputs": [],
   "source": [
    "help(dp)"
   ]
  },
  {
   "cell_type": "markdown",
   "id": "270fbe0a",
   "metadata": {},
   "source": [
    "Feel free to use, improve, adapt...  \n",
    "\n",
    "If you come across any bugs or have any suggestions by all means let me know, or better yet, make the changes and submit a merge request.\n",
    "\n",
    "Happy exploring!"
   ]
  }
 ],
 "metadata": {
  "kernelspec": {
   "display_name": "Python 3 (ipykernel)",
   "language": "python",
   "name": "python3"
  },
  "language_info": {
   "codemirror_mode": {
    "name": "ipython",
    "version": 3
   },
   "file_extension": ".py",
   "mimetype": "text/x-python",
   "name": "python",
   "nbconvert_exporter": "python",
   "pygments_lexer": "ipython3",
   "version": "3.9.7"
  }
 },
 "nbformat": 4,
 "nbformat_minor": 5
}
