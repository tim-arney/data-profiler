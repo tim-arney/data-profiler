{
 "cells": [
  {
   "cell_type": "markdown",
   "id": "c312922c",
   "metadata": {},
   "source": [
    "First we need to import the data profiler:"
   ]
  },
  {
   "cell_type": "code",
   "execution_count": null,
   "id": "7618d60c",
   "metadata": {},
   "outputs": [],
   "source": [
    "from data_profile import DataProfile"
   ]
  },
  {
   "cell_type": "markdown",
   "id": "27edb9d2",
   "metadata": {},
   "source": [
    "Then load the data into the profiler, which will give us a summary of the data set:"
   ]
  },
  {
   "cell_type": "code",
   "execution_count": null,
   "id": "1f1fd678",
   "metadata": {},
   "outputs": [],
   "source": [
    "data_src = 'data/sample_data.csv'\n",
    "dp = DataProfile(data_src) "
   ]
  },
  {
   "cell_type": "markdown",
   "id": "30c628ab",
   "metadata": {},
   "source": [
    "We can then describe all attributes:"
   ]
  },
  {
   "cell_type": "code",
   "execution_count": null,
   "id": "efc31efa",
   "metadata": {},
   "outputs": [],
   "source": [
    "dp.describe()"
   ]
  },
  {
   "cell_type": "markdown",
   "id": "cc8c8ab6",
   "metadata": {},
   "source": [
    "Or just describe a particular attribute, plus we can override the default number of rows to show in the frequency table:"
   ]
  },
  {
   "cell_type": "code",
   "execution_count": null,
   "id": "071ee006",
   "metadata": {},
   "outputs": [],
   "source": [
    "dp.describe('current_age', 10)"
   ]
  },
  {
   "cell_type": "markdown",
   "id": "23f51027",
   "metadata": {},
   "source": [
    "Obviously ages should be positive (and probably whole numbers), so we can check their validity:"
   ]
  },
  {
   "cell_type": "code",
   "execution_count": null,
   "id": "d1cdd2be",
   "metadata": {},
   "outputs": [],
   "source": [
    "dp.int_validation('current_age', minimum=0)"
   ]
  },
  {
   "cell_type": "markdown",
   "id": "04afc675",
   "metadata": {},
   "source": [
    "The most recent validity of an attribute is now associated with the data quality of that attribute:"
   ]
  },
  {
   "cell_type": "code",
   "execution_count": null,
   "id": "7e77325d",
   "metadata": {},
   "outputs": [],
   "source": [
    "dp.describe('current_age')"
   ]
  },
  {
   "cell_type": "markdown",
   "id": "a3d74083",
   "metadata": {},
   "source": [
    "Wrappers are also provided for pandas functions head, tail, and sample, to view a selection of records:"
   ]
  },
  {
   "cell_type": "code",
   "execution_count": null,
   "id": "b350da54",
   "metadata": {},
   "outputs": [],
   "source": [
    "dp.head()"
   ]
  },
  {
   "cell_type": "markdown",
   "id": "640623f8",
   "metadata": {},
   "source": [
    "For each wrapper we can also override the default number of records to show:"
   ]
  },
  {
   "cell_type": "code",
   "execution_count": null,
   "id": "ff6db680",
   "metadata": {},
   "outputs": [],
   "source": [
    "dp.tail(10)"
   ]
  },
  {
   "cell_type": "markdown",
   "id": "e150c6db",
   "metadata": {},
   "source": [
    "As well as isolate a particular attribute:"
   ]
  },
  {
   "cell_type": "code",
   "execution_count": null,
   "id": "3e7c6746",
   "metadata": {
    "scrolled": false
   },
   "outputs": [],
   "source": [
    "dp.sample(20, 'birth_date')"
   ]
  },
  {
   "cell_type": "markdown",
   "id": "cf4508e9",
   "metadata": {},
   "source": [
    "The dates appear to be formatted as day/month/year, so we can also check their validity by specifying an appropriate date format string, and at the same time restrict the date range to only dates that fall in the past:"
   ]
  },
  {
   "cell_type": "code",
   "execution_count": null,
   "id": "458f3e41",
   "metadata": {},
   "outputs": [],
   "source": [
    "dp.datetime_validation('birth_date', dt_format='%d/%m/%Y', to_dt='6/3/2022')"
   ]
  },
  {
   "cell_type": "markdown",
   "id": "d4f2d2f5",
   "metadata": {},
   "source": [
    "Convenience functions are provided for email and IP address validation:"
   ]
  },
  {
   "cell_type": "code",
   "execution_count": null,
   "id": "d8c8e538",
   "metadata": {},
   "outputs": [],
   "source": [
    "dp.email_validation('email')"
   ]
  },
  {
   "cell_type": "markdown",
   "id": "01b3f972",
   "metadata": {},
   "source": [
    "We can also change the sample size of the invalid values to show:"
   ]
  },
  {
   "cell_type": "code",
   "execution_count": null,
   "id": "62e281b2",
   "metadata": {},
   "outputs": [],
   "source": [
    "dp.ip_validation('ip_address', 10)"
   ]
  },
  {
   "cell_type": "markdown",
   "id": "54cdb916",
   "metadata": {},
   "source": [
    "These convenience functions are just wrappers for a more general regular expression validator.  For example, consider the 'rec_id' attribute:"
   ]
  },
  {
   "cell_type": "code",
   "execution_count": null,
   "id": "49bb9e8a",
   "metadata": {},
   "outputs": [],
   "source": [
    "dp.sample(20, 'rec_id')"
   ]
  },
  {
   "cell_type": "markdown",
   "id": "5c0c3131",
   "metadata": {},
   "source": [
    "It appears their values should all start with the letter 'R' and be followed by 6 digits.  So we can validate this using a regular expression:"
   ]
  },
  {
   "cell_type": "code",
   "execution_count": null,
   "id": "19be76c9",
   "metadata": {},
   "outputs": [],
   "source": [
    "dp.regex_validation('rec_id',r'^[R][0-9]{6}$')"
   ]
  },
  {
   "cell_type": "markdown",
   "id": "737590e0",
   "metadata": {},
   "source": [
    "There's also a string validation tool:"
   ]
  },
  {
   "cell_type": "code",
   "execution_count": null,
   "id": "04b7a484",
   "metadata": {},
   "outputs": [],
   "source": [
    "dp.string_validation('first_name')"
   ]
  },
  {
   "cell_type": "markdown",
   "id": "9284b074",
   "metadata": {},
   "source": [
    "By default it's just checking that the attribute only contains letters, but it can also be adjusted to consider other character sets as either valid or invalid, as well as check that the string length falls within a particular range:"
   ]
  },
  {
   "cell_type": "code",
   "execution_count": null,
   "id": "5ae929d3",
   "metadata": {},
   "outputs": [],
   "source": [
    "dp.string_validation('phone', letters=False, digits=True, whitespace=True, min_length=10)"
   ]
  },
  {
   "cell_type": "markdown",
   "id": "f682a0ae",
   "metadata": {},
   "source": [
    "Or for the 'postcode' attribute:"
   ]
  },
  {
   "cell_type": "code",
   "execution_count": null,
   "id": "8af5dd08",
   "metadata": {},
   "outputs": [],
   "source": [
    "dp.string_validation('postcode', letters=False, digits=True, min_length=3, max_length=4)"
   ]
  },
  {
   "cell_type": "markdown",
   "id": "6bb2f632",
   "metadata": {},
   "source": [
    "Though given Australian postcodes all run from '0200' to '9999', a better way might be to use the integer validation:"
   ]
  },
  {
   "cell_type": "code",
   "execution_count": null,
   "id": "e4d242b2",
   "metadata": {},
   "outputs": [],
   "source": [
    "dp.int_validation('postcode', minimum=200, maximum=9999)"
   ]
  },
  {
   "cell_type": "markdown",
   "id": "0235dfe6",
   "metadata": {},
   "source": [
    "The most recent validity figures can also be found in the summary:"
   ]
  },
  {
   "cell_type": "code",
   "execution_count": null,
   "id": "f26e4336",
   "metadata": {},
   "outputs": [],
   "source": [
    "dp.summary()"
   ]
  },
  {
   "cell_type": "markdown",
   "id": "7d5c13bc",
   "metadata": {},
   "source": [
    "Finally, we can save our profile to disk:"
   ]
  },
  {
   "cell_type": "code",
   "execution_count": null,
   "id": "76d21ed7",
   "metadata": {},
   "outputs": [],
   "source": [
    "dp.save()"
   ]
  },
  {
   "cell_type": "markdown",
   "id": "ac39cfd8",
   "metadata": {},
   "source": [
    "Feel free to use, improve, adapt...  \n",
    "\n",
    "If you come across any bugs or have any suggestions by all means let me know, or better yet, make the changes and submit a merge request.\n",
    "\n",
    "Happy exploring!"
   ]
  }
 ],
 "metadata": {
  "kernelspec": {
   "display_name": "Python 3 (ipykernel)",
   "language": "python",
   "name": "python3"
  },
  "language_info": {
   "codemirror_mode": {
    "name": "ipython",
    "version": 3
   },
   "file_extension": ".py",
   "mimetype": "text/x-python",
   "name": "python",
   "nbconvert_exporter": "python",
   "pygments_lexer": "ipython3",
   "version": "3.9.7"
  }
 },
 "nbformat": 4,
 "nbformat_minor": 5
}
